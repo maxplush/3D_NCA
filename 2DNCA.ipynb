{
 "cells": [
  {
   "cell_type": "code",
   "execution_count": 1,
   "id": "de9e4d6a",
   "metadata": {},
   "outputs": [],
   "source": [
    "import numpy as np\n",
    "from keras.layers import Conv2D\n",
    "from keras.layers import DepthwiseConv2D\n",
    "from keras.layers import Dense\n",
    "from keras.layers import concatenate\n",
    "from keras import Model\n",
    "from keras import Input\n",
    "import keras"
   ]
  },
  {
   "cell_type": "code",
   "execution_count": 2,
   "id": "682fd6bc",
   "metadata": {},
   "outputs": [],
   "source": [
    "sobelx_kernel=np.zeros((3,3,16))\n",
    "for i in range(16):\n",
    "    sobelx_kernel[:,:,i]=np.array([[-1,0,1],[-2,0,2],[-1,0,1]])\n",
    "sobelx_kernel=sobelx_kernel.reshape((3,3,16,1))\n",
    "\n",
    "def Sobelx_init(shape, dtype=None):\n",
    "    return sobelx_kernel\n",
    "\n",
    "Sobelx_layer=DepthwiseConv2D(3,depthwise_initializer=Sobelx_init,use_bias=False,padding=\"same\")\n",
    "Sobelx_layer.trainable=False"
   ]
  },
  {
   "cell_type": "code",
   "execution_count": 3,
   "id": "436b7048",
   "metadata": {},
   "outputs": [],
   "source": [
    "sobely_kernel=np.zeros((3,3,16))\n",
    "for i in range(16):\n",
    "    sobely_kernel[:,:,i]=np.array([[-1,0,1],[-2,0,2],[-1,0,1]]).T\n",
    "sobely_kernel=sobely_kernel.reshape((3,3,16,1))\n",
    "\n",
    "def Sobely_init(shape, dtype=None):\n",
    "    return sobely_kernel\n",
    "\n",
    "Sobely_layer=DepthwiseConv2D(3,depthwise_initializer=Sobely_init,use_bias=False,padding=\"same\")\n",
    "Sobely_layer.trainable=False"
   ]
  },
  {
   "cell_type": "code",
   "execution_count": 4,
   "id": "a4d1e090",
   "metadata": {},
   "outputs": [],
   "source": [
    "image=Input(shape=(64,64,16))\n",
    "Sobel_x=Sobelx_layer(image)\n",
    "Sobel_y=Sobely_layer(image)\n",
    "concat=concatenate([Sobel_x,Sobel_y,image])\n",
    "dense1=Conv2D(128,1,activation='relu')(concat) #kernel size=1 means dense across channels\n",
    "dense2=Conv2D(16,1)(dense1) \n",
    "\n",
    "model=Model(image,dense2)\n"
   ]
  },
  {
   "cell_type": "code",
   "execution_count": 5,
   "id": "0b454efb",
   "metadata": {},
   "outputs": [
    {
     "name": "stdout",
     "output_type": "stream",
     "text": [
      "Model: \"model\"\n",
      "__________________________________________________________________________________________________\n",
      " Layer (type)                   Output Shape         Param #     Connected to                     \n",
      "==================================================================================================\n",
      " input_1 (InputLayer)           [(None, 64, 64, 16)  0           []                               \n",
      "                                ]                                                                 \n",
      "                                                                                                  \n",
      " depthwise_conv2d (DepthwiseCon  (None, 64, 64, 16)  144         ['input_1[0][0]']                \n",
      " v2D)                                                                                             \n",
      "                                                                                                  \n",
      " depthwise_conv2d_1 (DepthwiseC  (None, 64, 64, 16)  144         ['input_1[0][0]']                \n",
      " onv2D)                                                                                           \n",
      "                                                                                                  \n",
      " concatenate (Concatenate)      (None, 64, 64, 48)   0           ['depthwise_conv2d[0][0]',       \n",
      "                                                                  'depthwise_conv2d_1[0][0]',     \n",
      "                                                                  'input_1[0][0]']                \n",
      "                                                                                                  \n",
      " conv2d (Conv2D)                (None, 64, 64, 128)  6272        ['concatenate[0][0]']            \n",
      "                                                                                                  \n",
      " conv2d_1 (Conv2D)              (None, 64, 64, 16)   2064        ['conv2d[0][0]']                 \n",
      "                                                                                                  \n",
      "==================================================================================================\n",
      "Total params: 8,624\n",
      "Trainable params: 8,336\n",
      "Non-trainable params: 288\n",
      "__________________________________________________________________________________________________\n"
     ]
    }
   ],
   "source": [
    "model.summary()"
   ]
  },
  {
   "cell_type": "code",
   "execution_count": 6,
   "id": "74ca2e35",
   "metadata": {},
   "outputs": [
    {
     "data": {
      "text/plain": [
       "array([[-1.,  0.,  1.],\n",
       "       [-2.,  0.,  2.],\n",
       "       [-1.,  0.,  1.]], dtype=float32)"
      ]
     },
     "execution_count": 6,
     "metadata": {},
     "output_type": "execute_result"
    }
   ],
   "source": [
    "np.array(Sobelx_layer.weights)[0,:,:,2].reshape((3,3))"
   ]
  },
  {
   "cell_type": "code",
   "execution_count": 7,
   "id": "197a63dc",
   "metadata": {},
   "outputs": [
    {
     "name": "stdout",
     "output_type": "stream",
     "text": [
      "Model: \"model_1\"\n",
      "__________________________________________________________________________________________________\n",
      " Layer (type)                   Output Shape         Param #     Connected to                     \n",
      "==================================================================================================\n",
      " input_2 (InputLayer)           [(None, 64, 64, 16)  0           []                               \n",
      "                                ]                                                                 \n",
      "                                                                                                  \n",
      " model (Functional)             (None, 64, 64, 16)   8624        ['input_2[0][0]',                \n",
      "                                                                  'model[0][0]',                  \n",
      "                                                                  'model[1][0]',                  \n",
      "                                                                  'model[2][0]',                  \n",
      "                                                                  'model[3][0]',                  \n",
      "                                                                  'model[4][0]',                  \n",
      "                                                                  'model[5][0]',                  \n",
      "                                                                  'model[6][0]',                  \n",
      "                                                                  'model[7][0]',                  \n",
      "                                                                  'model[8][0]',                  \n",
      "                                                                  'model[9][0]',                  \n",
      "                                                                  'model[10][0]',                 \n",
      "                                                                  'model[11][0]',                 \n",
      "                                                                  'model[12][0]',                 \n",
      "                                                                  'model[13][0]',                 \n",
      "                                                                  'model[14][0]',                 \n",
      "                                                                  'model[15][0]',                 \n",
      "                                                                  'model[16][0]',                 \n",
      "                                                                  'model[17][0]',                 \n",
      "                                                                  'model[18][0]',                 \n",
      "                                                                  'model[19][0]',                 \n",
      "                                                                  'model[20][0]',                 \n",
      "                                                                  'model[21][0]',                 \n",
      "                                                                  'model[22][0]',                 \n",
      "                                                                  'model[23][0]',                 \n",
      "                                                                  'model[24][0]',                 \n",
      "                                                                  'model[25][0]',                 \n",
      "                                                                  'model[26][0]',                 \n",
      "                                                                  'model[27][0]',                 \n",
      "                                                                  'model[28][0]',                 \n",
      "                                                                  'model[29][0]',                 \n",
      "                                                                  'model[30][0]',                 \n",
      "                                                                  'model[31][0]',                 \n",
      "                                                                  'model[32][0]',                 \n",
      "                                                                  'model[33][0]',                 \n",
      "                                                                  'model[34][0]',                 \n",
      "                                                                  'model[35][0]',                 \n",
      "                                                                  'model[36][0]',                 \n",
      "                                                                  'model[37][0]',                 \n",
      "                                                                  'model[38][0]',                 \n",
      "                                                                  'model[39][0]',                 \n",
      "                                                                  'model[40][0]',                 \n",
      "                                                                  'model[41][0]',                 \n",
      "                                                                  'model[42][0]',                 \n",
      "                                                                  'model[43][0]',                 \n",
      "                                                                  'model[44][0]',                 \n",
      "                                                                  'model[45][0]',                 \n",
      "                                                                  'model[46][0]',                 \n",
      "                                                                  'model[47][0]',                 \n",
      "                                                                  'model[48][0]',                 \n",
      "                                                                  'model[49][0]',                 \n",
      "                                                                  'model[50][0]',                 \n",
      "                                                                  'model[51][0]',                 \n",
      "                                                                  'model[52][0]',                 \n",
      "                                                                  'model[53][0]',                 \n",
      "                                                                  'model[54][0]',                 \n",
      "                                                                  'model[55][0]',                 \n",
      "                                                                  'model[56][0]',                 \n",
      "                                                                  'model[57][0]',                 \n",
      "                                                                  'model[58][0]',                 \n",
      "                                                                  'model[59][0]',                 \n",
      "                                                                  'model[60][0]',                 \n",
      "                                                                  'model[61][0]',                 \n",
      "                                                                  'model[62][0]',                 \n",
      "                                                                  'model[63][0]',                 \n",
      "                                                                  'model[64][0]',                 \n",
      "                                                                  'model[65][0]',                 \n",
      "                                                                  'model[66][0]',                 \n",
      "                                                                  'model[67][0]',                 \n",
      "                                                                  'model[68][0]',                 \n",
      "                                                                  'model[69][0]',                 \n",
      "                                                                  'model[70][0]',                 \n",
      "                                                                  'model[71][0]',                 \n",
      "                                                                  'model[72][0]',                 \n",
      "                                                                  'model[73][0]',                 \n",
      "                                                                  'model[74][0]',                 \n",
      "                                                                  'model[75][0]',                 \n"
     ]
    },
    {
     "name": "stdout",
     "output_type": "stream",
     "text": [
      "                                                                  'model[76][0]',                 \n",
      "                                                                  'model[77][0]',                 \n",
      "                                                                  'model[78][0]',                 \n",
      "                                                                  'model[79][0]',                 \n",
      "                                                                  'model[80][0]',                 \n",
      "                                                                  'model[81][0]',                 \n",
      "                                                                  'model[82][0]',                 \n",
      "                                                                  'model[83][0]',                 \n",
      "                                                                  'model[84][0]',                 \n",
      "                                                                  'model[85][0]',                 \n",
      "                                                                  'model[86][0]',                 \n",
      "                                                                  'model[87][0]',                 \n",
      "                                                                  'model[88][0]',                 \n",
      "                                                                  'model[89][0]',                 \n",
      "                                                                  'model[90][0]',                 \n",
      "                                                                  'model[91][0]',                 \n",
      "                                                                  'model[92][0]',                 \n",
      "                                                                  'model[93][0]',                 \n",
      "                                                                  'model[94][0]',                 \n",
      "                                                                  'model[95][0]',                 \n",
      "                                                                  'model[96][0]',                 \n",
      "                                                                  'model[97][0]',                 \n",
      "                                                                  'model[98][0]']                 \n",
      "                                                                                                  \n",
      "==================================================================================================\n",
      "Total params: 8,624\n",
      "Trainable params: 8,336\n",
      "Non-trainable params: 288\n",
      "__________________________________________________________________________________________________\n"
     ]
    }
   ],
   "source": [
    "start=Input(shape=(64,64,16))\n",
    "x=model(start)\n",
    "for i in range(99):\n",
    "    x=model(x)\n",
    "unrolled_model=Model(start,x)\n",
    "unrolled_model.summary()"
   ]
  },
  {
   "cell_type": "code",
   "execution_count": null,
   "id": "1b5c9e0d",
   "metadata": {},
   "outputs": [],
   "source": []
  }
 ],
 "metadata": {
  "kernelspec": {
   "display_name": "Python 3 (ipykernel)",
   "language": "python",
   "name": "python3"
  },
  "language_info": {
   "codemirror_mode": {
    "name": "ipython",
    "version": 3
   },
   "file_extension": ".py",
   "mimetype": "text/x-python",
   "name": "python",
   "nbconvert_exporter": "python",
   "pygments_lexer": "ipython3",
   "version": "3.11.5"
  }
 },
 "nbformat": 4,
 "nbformat_minor": 5
}
